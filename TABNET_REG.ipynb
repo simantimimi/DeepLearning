{
 "cells": [
  {
   "cell_type": "markdown",
   "metadata": {},
   "source": [
    "#### TabNet base and cross val model for inpData"
   ]
  },
  {
   "cell_type": "code",
   "execution_count": 33,
   "metadata": {},
   "outputs": [],
   "source": [
    "import pandas as pd\n",
    "import numpy  as np\n",
    "import os\n",
    "from sklearn.model_selection import KFold\n",
    "from sklearn.preprocessing import LabelEncoder\n",
    "from sklearn.metrics import mean_squared_error\n",
    "import matplotlib.pyplot as plt\n",
    "#from libdl.dl import dl\n",
    "\n",
    "from pytorch_tabnet.tab_model import TabNetRegressor\n",
    "\n",
    "from sklearn.model_selection import train_test_split\n",
    "from sklearn.model_selection import cross_val_score\n",
    "from sklearn.model_selection import KFold\n",
    "from sklearn import model_selection, preprocessing, feature_selection, ensemble, linear_model, metrics, decomposition\n",
    "pd.set_option('display.max_columns',9999)\n",
    "%matplotlib inline"
   ]
  },
  {
   "cell_type": "markdown",
   "metadata": {},
   "source": [
    "#### Loading training data set"
   ]
  },
  {
   "cell_type": "code",
   "execution_count": 34,
   "metadata": {},
   "outputs": [
    {
     "data": {
      "text/html": [
       "<div>\n",
       "<style scoped>\n",
       "    .dataframe tbody tr th:only-of-type {\n",
       "        vertical-align: middle;\n",
       "    }\n",
       "\n",
       "    .dataframe tbody tr th {\n",
       "        vertical-align: top;\n",
       "    }\n",
       "\n",
       "    .dataframe thead th {\n",
       "        text-align: right;\n",
       "    }\n",
       "</style>\n",
       "<table border=\"1\" class=\"dataframe\">\n",
       "  <thead>\n",
       "    <tr style=\"text-align: right;\">\n",
       "      <th></th>\n",
       "      <th>las</th>\n",
       "      <th>soda</th>\n",
       "      <th>silicate</th>\n",
       "      <th>water_hardness</th>\n",
       "      <th>Mannaway_4T</th>\n",
       "      <th>Xpect_1000T</th>\n",
       "      <th>Savinase_16T</th>\n",
       "      <th>Stainzyme_12T</th>\n",
       "      <th>Celluclean</th>\n",
       "      <th>Lipex__100T</th>\n",
       "      <th>stains</th>\n",
       "      <th>response</th>\n",
       "      <th>stains_le</th>\n",
       "    </tr>\n",
       "  </thead>\n",
       "  <tbody>\n",
       "    <tr>\n",
       "      <th>722</th>\n",
       "      <td>9</td>\n",
       "      <td>25.0</td>\n",
       "      <td>10</td>\n",
       "      <td>350</td>\n",
       "      <td>0.00</td>\n",
       "      <td>0.02</td>\n",
       "      <td>0.0</td>\n",
       "      <td>0.0</td>\n",
       "      <td>0.0</td>\n",
       "      <td>0.0</td>\n",
       "      <td>CS28</td>\n",
       "      <td>31.96</td>\n",
       "      <td>7</td>\n",
       "    </tr>\n",
       "    <tr>\n",
       "      <th>5959</th>\n",
       "      <td>0</td>\n",
       "      <td>25.0</td>\n",
       "      <td>0</td>\n",
       "      <td>350</td>\n",
       "      <td>0.00</td>\n",
       "      <td>0.00</td>\n",
       "      <td>0.0</td>\n",
       "      <td>0.0</td>\n",
       "      <td>0.0</td>\n",
       "      <td>0.0</td>\n",
       "      <td>WFK20PF</td>\n",
       "      <td>39.05</td>\n",
       "      <td>20</td>\n",
       "    </tr>\n",
       "    <tr>\n",
       "      <th>12363</th>\n",
       "      <td>9</td>\n",
       "      <td>25.0</td>\n",
       "      <td>0</td>\n",
       "      <td>350</td>\n",
       "      <td>0.00</td>\n",
       "      <td>0.00</td>\n",
       "      <td>0.0</td>\n",
       "      <td>0.0</td>\n",
       "      <td>0.0</td>\n",
       "      <td>0.0</td>\n",
       "      <td>WFK80A</td>\n",
       "      <td>65.30</td>\n",
       "      <td>21</td>\n",
       "    </tr>\n",
       "    <tr>\n",
       "      <th>655</th>\n",
       "      <td>18</td>\n",
       "      <td>25.0</td>\n",
       "      <td>10</td>\n",
       "      <td>150</td>\n",
       "      <td>0.05</td>\n",
       "      <td>0.00</td>\n",
       "      <td>0.0</td>\n",
       "      <td>0.0</td>\n",
       "      <td>0.0</td>\n",
       "      <td>0.0</td>\n",
       "      <td>CS28</td>\n",
       "      <td>32.14</td>\n",
       "      <td>7</td>\n",
       "    </tr>\n",
       "    <tr>\n",
       "      <th>11361</th>\n",
       "      <td>9</td>\n",
       "      <td>25.0</td>\n",
       "      <td>10</td>\n",
       "      <td>350</td>\n",
       "      <td>0.00</td>\n",
       "      <td>0.00</td>\n",
       "      <td>0.3</td>\n",
       "      <td>0.0</td>\n",
       "      <td>0.0</td>\n",
       "      <td>0.0</td>\n",
       "      <td>PCN01</td>\n",
       "      <td>77.25</td>\n",
       "      <td>16</td>\n",
       "    </tr>\n",
       "  </tbody>\n",
       "</table>\n",
       "</div>"
      ],
      "text/plain": [
       "       las  soda  silicate  water_hardness  Mannaway_4T  Xpect_1000T  \\\n",
       "722      9  25.0        10             350         0.00         0.02   \n",
       "5959     0  25.0         0             350         0.00         0.00   \n",
       "12363    9  25.0         0             350         0.00         0.00   \n",
       "655     18  25.0        10             150         0.05         0.00   \n",
       "11361    9  25.0        10             350         0.00         0.00   \n",
       "\n",
       "       Savinase_16T  Stainzyme_12T  Celluclean  Lipex__100T   stains  \\\n",
       "722             0.0            0.0         0.0          0.0     CS28   \n",
       "5959            0.0            0.0         0.0          0.0  WFK20PF   \n",
       "12363           0.0            0.0         0.0          0.0   WFK80A   \n",
       "655             0.0            0.0         0.0          0.0     CS28   \n",
       "11361           0.3            0.0         0.0          0.0    PCN01   \n",
       "\n",
       "       response  stains_le  \n",
       "722       31.96          7  \n",
       "5959      39.05         20  \n",
       "12363     65.30         21  \n",
       "655       32.14          7  \n",
       "11361     77.25         16  "
      ]
     },
     "execution_count": 34,
     "metadata": {},
     "output_type": "execute_result"
    }
   ],
   "source": [
    "path = \"path to files directory\"\n",
    "\n",
    "file1= pd.read_csv(os.path.join(path,\"inpData.csv\"))\n",
    "file1 = file1.iloc[:,3:len(file1.columns)] ## removing Region column\n",
    "#file1.shape\n",
    "\n",
    "file1.sample(5)"
   ]
  },
  {
   "cell_type": "markdown",
   "metadata": {},
   "source": [
    "#### processing categorical data"
   ]
  },
  {
   "cell_type": "code",
   "execution_count": 35,
   "metadata": {},
   "outputs": [
    {
     "name": "stdout",
     "output_type": "stream",
     "text": [
      "stains 22\n"
     ]
    }
   ],
   "source": [
    "categorical_columns = []\n",
    "categorical_dims =  {}\n",
    "for col in file1.columns[file1.dtypes == object]:\n",
    "    print(col, file1[col].nunique())\n",
    "    l_enc = LabelEncoder()\n",
    "  #  train_data[col] = train_data[col].fillna(\"VV_likely\")\n",
    "    file1[col] = l_enc.fit_transform(file1[col].values)\n",
    "    categorical_columns.append(col)\n",
    "    categorical_dims[col] = len(l_enc.classes_)\n",
    "\n",
    "#for col in train_data.columns[train_data.dtypes == 'float64']:\n",
    "#    train_data.fillna(train_data.loc[train_data.index, col].mean(), inplace=True)\n",
    "\n",
    "\n"
   ]
  },
  {
   "cell_type": "markdown",
   "metadata": {},
   "source": [
    "#### Train Test Split"
   ]
  },
  {
   "cell_type": "code",
   "execution_count": 36,
   "metadata": {},
   "outputs": [
    {
     "name": "stdout",
     "output_type": "stream",
     "text": [
      "size of train_data =  (10217, 13) | size of test_data =  (2555, 13)\n"
     ]
    }
   ],
   "source": [
    "#spliting data into training and validation set ()\n",
    "train_data, test_data = train_test_split(file1, test_size=0.2, random_state = 42) \n",
    "print(\"size of train_data = \", train_data.shape, \"| size of test_data = \", test_data.shape)"
   ]
  },
  {
   "cell_type": "markdown",
   "metadata": {},
   "source": [
    "#### Defining parameters"
   ]
  },
  {
   "cell_type": "code",
   "execution_count": 44,
   "metadata": {},
   "outputs": [
    {
     "data": {
      "text/plain": [
       "[22]"
      ]
     },
     "execution_count": 44,
     "metadata": {},
     "output_type": "execute_result"
    }
   ],
   "source": [
    "features = ['las', 'soda', 'silicate', 'water_hardness', 'Mannaway_4T',\n",
    "       'Xpect_1000T', 'Savinase_16T', 'Stainzyme_12T', 'Celluclean',\n",
    "       'Lipex__100T','stains']#[ col for col in train_data.columns if col not in [response]] \n",
    "\n",
    "cat_idxs = [ i for i, f in enumerate(features) if f in categorical_columns]\n",
    "\n",
    "cat_dims = [ categorical_dims[f] for i, f in enumerate(features) if f in categorical_columns]\n",
    "\n",
    "# define your embedding sizes : here just a random choice\n",
    "cat_emb_dim = [5]  #watchout, match with cat_dims\n",
    "\n",
    "cat_dims"
   ]
  },
  {
   "cell_type": "code",
   "execution_count": 45,
   "metadata": {},
   "outputs": [
    {
     "name": "stdout",
     "output_type": "stream",
     "text": [
      "Device used : cpu\n"
     ]
    }
   ],
   "source": []
  },
  {
   "cell_type": "code",
   "execution_count": 46,
   "metadata": {},
   "outputs": [],
   "source": [
    "clf = TabNetRegressor(cat_dims=cat_dims, cat_emb_dim=cat_emb_dim, cat_idxs=cat_idxs)\n",
    "\n",
    "### Train/Test (validation data) features and labels\n",
    "\n",
    "X_train      = train_data[features].values                   #features\n",
    "y_train      = train_data[\"response\"].values.reshape(-1, 1)  #lables\n",
    "X_valid = test_data[features].values\n",
    "y_valid = test_data[\"response\"].values.reshape(-1, 1)\n",
    "\n",
    "## Setting max_epochs\n",
    "max_epochs = 1000 if not os.getenv(\"CI\", False) else 2\n",
    "\n",
    "## model fitting\n",
    "clf.fit(\n",
    "    X_train=X_train, y_train=y_train,\n",
    "    eval_set=[(X_train, y_train), (X_valid, y_valid)],\n",
    "    eval_name=['train', 'valid'],\n",
    "    eval_metric=['rmsle', 'mae', 'rmse', 'mse'],\n",
    "    max_epochs=max_epochs,\n",
    "    patience=30,\n",
    "    batch_size=1024, virtual_batch_size=128,\n",
    "    num_workers=0,\n",
    "    drop_last=False\n",
    ")\n",
    "\n",
    "plt.plot(clf.history['loss'])"
   ]
  },
  {
   "cell_type": "code",
   "execution_count": 50,
   "metadata": {},
   "outputs": [
    {
     "data": {
      "text/plain": [
       "[<matplotlib.lines.Line2D at 0x7f03b56c65b0>]"
      ]
     },
     "execution_count": 50,
     "metadata": {},
     "output_type": "execute_result"
    },
    {
     "data": {
      "image/png": "[encoded data removed]",
      "text/plain": [
       "<Figure size 432x288 with 1 Axes>"
      ]
     },
     "metadata": {
      "needs_background": "light"
     },
     "output_type": "display_data"
    }
   ],
   "source": [
    "plt.plot(clf.history['train_rmsle'])\n",
    "plt.plot(clf.history['valid_rmsle'])"
   ]
  },
  {
   "cell_type": "markdown",
   "metadata": {},
   "source": [
    "### Feature of importance"
   ]
  },
  {
   "cell_type": "code",
   "execution_count": 51,
   "metadata": {},
   "outputs": [
    {
     "data": {
      "text/plain": [
       "<AxesSubplot:>"
      ]
     },
     "execution_count": 51,
     "metadata": {},
     "output_type": "execute_result"
    },
    {
     "data": {
      "image/png": "[encoded data removed]",
      "text/plain": [
       "<Figure size 432x288 with 1 Axes>"
      ]
     },
     "metadata": {
      "needs_background": "light"
     },
     "output_type": "display_data"
    }
   ],
   "source": [
    "clf.feature_importances_\n",
    "feat_importances = pd.Series(clf.feature_importances_, index=features)\n",
    "feat_importances.nlargest(20).plot(kind='barh')"
   ]
  },
  {
   "cell_type": "markdown",
   "metadata": {},
   "source": [
    "#### Load external test data "
   ]
  },
  {
   "cell_type": "code",
   "execution_count": 54,
   "metadata": {},
   "outputs": [
    {
     "name": "stdout",
     "output_type": "stream",
     "text": [
      "stains 22\n"
     ]
    }
   ],
   "source": [
    "ext_val = pd.read_csv(os.path.join(path,\"nzin_emll_p2_test.csv\"))\n",
    "ext_val = ext_val.iloc[:,3:len(ext_val.columns)] ## removing Region column\n",
    "#file1.shape\n",
    "\n",
    "ext_val.sample(5)\n",
    "\n",
    "\n",
    "## processing categorical data i.e. stains (ideally this can be run with stains_le)\n",
    "categorical_columns2 = []\n",
    "categorical_dims2 =  {}\n",
    "for col in ext_val.columns[ext_val.dtypes == object]:\n",
    "    print(col, ext_val[col].nunique())\n",
    "    l_enc = LabelEncoder()\n",
    "  #  train_data[col] = train_data[col].fillna(\"VV_likely\")\n",
    "    ext_val[col] = l_enc.fit_transform(ext_val[col].values)\n",
    "    categorical_columns2.append(col)\n",
    "    categorical_dims2[col] = len(l_enc.classes_)\n",
    "\n",
    "\n",
    "\n",
    "\n",
    "X_ext_val = ext_val[features].values\n",
    "y_ext_val = ext_val[\"response\"].values.reshape(-1, 1)"
   ]
  },
  {
   "cell_type": "code",
   "execution_count": 55,
   "metadata": {},
   "outputs": [
    {
     "name": "stdout",
     "output_type": "stream",
     "text": [
      "BEST VALID SCORE FOR  : 7.93595071258747\n",
      "FINAL TEST SCORE FOR  : 8.68269063343675\n"
     ]
    }
   ],
   "source": [
    "preds = clf.predict(X_ext_val)\n",
    "\n",
    "y_true = y_ext_val\n",
    "\n",
    "test_score = mean_squared_error(y_pred=preds, y_true=y_true)\n",
    "\n",
    "print(f\"BEST VALID SCORE FOR  : {clf.best_cost}\")\n",
    "print(f\"FINAL TEST SCORE FOR  : {test_score}\")"
   ]
  },
  {
   "cell_type": "code",
   "execution_count": 56,
   "metadata": {},
   "outputs": [
    {
     "data": {
      "image/png": "[encoded data removed]",
      "text/plain": [
       "<Figure size 720x720 with 1 Axes>"
      ]
     },
     "metadata": {
      "needs_background": "light"
     },
     "output_type": "display_data"
    }
   ],
   "source": [
    "\n",
    "plt.figure(figsize=(10,10))\n",
    "plt.scatter(y_true,preds, c='green')\n",
    "#plt.yscale('log')\n",
    "#plt.xscale('log')\n",
    "\n",
    "p1_valid = max(max(preds), max(y_true))\n",
    "p2_valid = min(min(preds), min(y_true))\n",
    "plt.plot([p1_valid, p2_valid], [p1_valid, p2_valid], 'b-')\n",
    "\n",
    "plt.title(\"Validation data\", fontsize=25)\n",
    "plt.xlabel('Actual', fontsize=15)\n",
    "plt.ylabel('Predictions', fontsize=15)\n",
    "plt.axis('equal')\n",
    "\n",
    "plt.show()"
   ]
  },
  {
   "cell_type": "markdown",
   "metadata": {},
   "source": [
    "###### Check with cross validation"
   ]
  },
  {
   "cell_type": "code",
   "execution_count": null,
   "metadata": {},
   "outputs": [],
   "source": []
  }
 ],
 "metadata": {
  "kernelspec": {
   "display_name": "sibh_venv1",
   "language": "python",
   "name": "sibh_venv1"
  },
  "language_info": {
   "codemirror_mode": {
    "name": "ipython",
    "version": 3
   },
   "file_extension": ".py",
   "mimetype": "text/x-python",
   "name": "python",
   "nbconvert_exporter": "python",
   "pygments_lexer": "ipython3",
   "version": "3.9.6"
  }
 },
 "nbformat": 4,
 "nbformat_minor": 2
}
